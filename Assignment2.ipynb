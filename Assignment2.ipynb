{
 "cells": [
  {
   "cell_type": "code",
   "execution_count": null,
   "id": "179a72fa-2107-45e9-ba23-8b5c7d3642cf",
   "metadata": {},
   "outputs": [],
   "source": [
    "#list"
   ]
  },
  {
   "cell_type": "code",
   "execution_count": 3,
   "id": "ab94ff6b-145e-4399-9333-f345fb3d132f",
   "metadata": {},
   "outputs": [],
   "source": [
    "import random"
   ]
  },
  {
   "cell_type": "code",
   "execution_count": 5,
   "id": "5fb82fbb-904e-42d2-a9bf-142c07318b10",
   "metadata": {},
   "outputs": [],
   "source": [
    "random_list=[random.randint(1,100)for _ in range (5)]"
   ]
  },
  {
   "cell_type": "code",
   "execution_count": 7,
   "id": "7789c682-e28f-4d7a-b8c9-e8e3dc1fae79",
   "metadata": {},
   "outputs": [
    {
     "name": "stdout",
     "output_type": "stream",
     "text": [
      "[72, 30, 82, 51, 21]\n"
     ]
    }
   ],
   "source": [
    "print (random_list)"
   ]
  },
  {
   "cell_type": "code",
   "execution_count": 9,
   "id": "c3a1c5dc-8d1a-49bc-a866-e10d6fb737c6",
   "metadata": {},
   "outputs": [],
   "source": [
    "random_list.extend([10,20,30])"
   ]
  },
  {
   "cell_type": "code",
   "execution_count": 11,
   "id": "d8935bce-8dd7-4b9b-a77d-a9b96f022b9f",
   "metadata": {},
   "outputs": [
    {
     "name": "stdout",
     "output_type": "stream",
     "text": [
      "[72, 30, 82, 51, 21, 10, 20, 30]\n"
     ]
    }
   ],
   "source": [
    "print (random_list)"
   ]
  },
  {
   "cell_type": "code",
   "execution_count": 17,
   "id": "c1a25f8d-7445-488d-8de0-e9ea5d036347",
   "metadata": {},
   "outputs": [
    {
     "name": "stdout",
     "output_type": "stream",
     "text": [
      "72\n",
      "30\n",
      "82\n",
      "51\n",
      "21\n",
      "10\n",
      "20\n",
      "30\n"
     ]
    }
   ],
   "source": [
    "for num in random_list:\n",
    "    print (num)    "
   ]
  },
  {
   "cell_type": "code",
   "execution_count": 19,
   "id": "cf233fd2-07f6-4907-8861-5e845d063126",
   "metadata": {},
   "outputs": [],
   "source": [
    "#dictionary"
   ]
  },
  {
   "cell_type": "code",
   "execution_count": 21,
   "id": "e1cb3a5e-6a17-4186-9d60-07a65ad62fe8",
   "metadata": {},
   "outputs": [
    {
     "name": "stdout",
     "output_type": "stream",
     "text": [
      "{'name': 'John', 'age': 25, 'address': 'Newyork'}\n"
     ]
    }
   ],
   "source": [
    "person_dict ={\"name\":\"John\",\"age\":25,\"address\":\"Newyork\"}\n",
    "print (person_dict)"
   ]
  },
  {
   "cell_type": "code",
   "execution_count": 27,
   "id": "38793be4-cd5b-4f1d-a03c-abf1991da818",
   "metadata": {},
   "outputs": [
    {
     "name": "stdout",
     "output_type": "stream",
     "text": [
      "{'name': 'John', 'age': 25, 'address': 'Newyork', 'Phone': '1234567890'}\n"
     ]
    }
   ],
   "source": [
    "person_dict[\"Phone\"]=\"1234567890\"\n",
    "print (person_dict)"
   ]
  },
  {
   "cell_type": "code",
   "execution_count": 29,
   "id": "5956fd5a-238a-4218-9a9f-24ea245ae044",
   "metadata": {},
   "outputs": [],
   "source": [
    "#set"
   ]
  },
  {
   "cell_type": "code",
   "execution_count": 31,
   "id": "806f50fe-a874-487a-b1fc-7a8e1816021f",
   "metadata": {},
   "outputs": [
    {
     "name": "stdout",
     "output_type": "stream",
     "text": [
      "{1, 2, 3, 4, 5}\n"
     ]
    }
   ],
   "source": [
    "num_set = {1,2,3,4,5}\n",
    "print (num_set)"
   ]
  },
  {
   "cell_type": "code",
   "execution_count": 33,
   "id": "9f345761-5e70-4aea-b2e0-467583fa9d76",
   "metadata": {},
   "outputs": [
    {
     "name": "stdout",
     "output_type": "stream",
     "text": [
      "{1, 2, 3, 4, 5, 6}\n"
     ]
    }
   ],
   "source": [
    "num_set.add (6)\n",
    "print (num_set)"
   ]
  },
  {
   "cell_type": "code",
   "execution_count": 35,
   "id": "2879cc9f-41ac-48b6-8908-4516cfd4786c",
   "metadata": {},
   "outputs": [
    {
     "name": "stdout",
     "output_type": "stream",
     "text": [
      "{1, 2, 4, 5, 6}\n"
     ]
    }
   ],
   "source": [
    "num_set.remove (3)\n",
    "print (num_set)"
   ]
  },
  {
   "cell_type": "code",
   "execution_count": 37,
   "id": "fd461840-b1b0-4551-a408-3a1deb96a82f",
   "metadata": {},
   "outputs": [],
   "source": [
    "#Tuple"
   ]
  },
  {
   "cell_type": "code",
   "execution_count": 39,
   "id": "82e21cc1-cf90-4c1e-8f4b-a20196619702",
   "metadata": {},
   "outputs": [
    {
     "name": "stdout",
     "output_type": "stream",
     "text": [
      "(1, 2, 3, 4)\n"
     ]
    }
   ],
   "source": [
    "my_tuple= (1,2,3,4)\n",
    "print (my_tuple)"
   ]
  },
  {
   "cell_type": "code",
   "execution_count": 41,
   "id": "bcf0fc30-571f-4c8d-b881-bcbf3366de5b",
   "metadata": {},
   "outputs": [
    {
     "name": "stdout",
     "output_type": "stream",
     "text": [
      "4\n"
     ]
    }
   ],
   "source": [
    "print (len(my_tuple))"
   ]
  },
  {
   "cell_type": "code",
   "execution_count": null,
   "id": "d8096418-1ac3-4de3-87d4-ab89537d01d1",
   "metadata": {},
   "outputs": [],
   "source": []
  }
 ],
 "metadata": {
  "kernelspec": {
   "display_name": "Python 3 (ipykernel)",
   "language": "python",
   "name": "python3"
  },
  "language_info": {
   "codemirror_mode": {
    "name": "ipython",
    "version": 3
   },
   "file_extension": ".py",
   "mimetype": "text/x-python",
   "name": "python",
   "nbconvert_exporter": "python",
   "pygments_lexer": "ipython3",
   "version": "3.12.7"
  }
 },
 "nbformat": 4,
 "nbformat_minor": 5
}
